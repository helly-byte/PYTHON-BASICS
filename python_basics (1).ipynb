{
  "nbformat": 4,
  "nbformat_minor": 0,
  "metadata": {
    "colab": {
      "provenance": []
    },
    "kernelspec": {
      "name": "python3",
      "display_name": "Python 3"
    },
    "language_info": {
      "name": "python"
    }
  },
  "cells": [
    {
      "cell_type": "markdown",
      "source": [
        "#PYTHON BASICS"
      ],
      "metadata": {
        "id": "kgyBiMurHM8n"
      }
    },
    {
      "cell_type": "markdown",
      "source": [
        "#THEORITICAL QUESTIONS"
      ],
      "metadata": {
        "id": "umRkfivyG_mV"
      }
    },
    {
      "cell_type": "markdown",
      "source": [
        "1. What is python, and why is it popular?\n",
        "  - Python is a programming language that is easy to understand and write, make ing it a popular choice amoung developers and programmers. it is compatible with various programming paradigms,such as procedural, object-oriented, and functional programming. python also has large and active community of developers, an extensive standard library,and third-party packages for various domains.\n",
        "\n",
        "2. What is an interpreter in python?\n",
        "   - A python is a computer program that converts each high level program statement into machine code.An interpreter translates the command that you write out into code that the computer can understand.\n",
        "\n",
        "3. What are pre-defined key-words in python?\n",
        "    - Pre-defined key words are if, else, while, for, def, class, import, trty, except, return, true, false, none, etc.\n",
        "      \n",
        "4. Can keywords be used as variable names?\n",
        "     - Ieywords are reseved words that have special meanings and can not be used as identifiers like variable name, functions names.\n",
        "\n",
        "5. What is mutability in python?\n",
        "  - In python, object can be changeable after creation that is called mutability.mutable object such as lists and dictionaries,mutability affects how object are stored and manipulated in memory, impacting performance, memory usage, and concurrency in python programs.\n",
        "\n",
        "6. Why are lists mutable,but tuples are immutable?\n",
        "   - The main diffrence between tuples and lists is that tuples are immutable, meaning their contents cannot be changed after creation, while lists are mutable and can be modified.  Additionally, tuples are more memory-efficient compared to lists. Tuples can't be changed after they're created, but lists can be modified.             \n",
        "\n",
        "7. What is the diffrence between \"==\" and \"is\" oprators in python?   \n",
        "    - The \"==\" oprator is used to compare the equality of objects.The \"is\" oparator is used to check if diffrent variables are pointing to the same object in memory.\n",
        "\n",
        "8. What are logical oprators in python?\n",
        "\n",
        "   - Logical oprators are \"and\", \"or\" & \"not\" in python.\n",
        "\n",
        "\n",
        "9. What is the type casting in python?\n",
        "   - The type casting  is the process of changing one data to another in python and also referred to as type conversation. Type casting is often necessary or performing arithmetic oprations, data manipulation, and input/output oprations programs.      \n",
        "\n",
        "10. What is the diffrence between implict and explict type casting?\n",
        "\n",
        "  - Implicit casting allows python to automatically convert data types when performing oprations, while explict casting gives you control over how data types are converted.  \n",
        "\n",
        "11. What is the purpose of conditional statements in python?  \n",
        "\n",
        "   - A conditional statement as the name suggest itself, is used to handle conditions in your program. These statements guide the program while making decisions based on the conditions encountered by the program.\n",
        "\n",
        "12. How does the elif statement work?\n",
        "\n",
        "   - In python, elif is short for \"else if\" and is used when the first if statement isn't true, but you want to check for another conditions. Meaning , if statement pair up with elif and else staements to perform a series of checks.\n",
        "\n",
        "13. What is the difference between for and while loops?   \n",
        "\n",
        "  - The difference between for and while loops are \"for\" loop are used for iterating over a sequence of elements, while \"while\" loops are used for executing code until a specified condition becomes false.\n",
        "\n",
        "14. Describe a scenario where a while loop is more suitable than a for loop.\n",
        "\n",
        " - In contrast to a'for' loop, which is generally used when the number of iterations is known beforehand, a 'while' loop is ideal for situations where the number of iterations is not predtermined and depends on some dynamic condition.\n",
        "\n",
        "  \n",
        "   \n",
        "   \n",
        "\n",
        "\n",
        "  \n",
        "\n"
      ],
      "metadata": {
        "id": "I9EECJXflKr0"
      }
    },
    {
      "cell_type": "markdown",
      "source": [
        "# PRACTICAL QUESTIONS"
      ],
      "metadata": {
        "id": "VjYy5utDHUDT"
      }
    },
    {
      "cell_type": "markdown",
      "source": [
        " 1. Write a python program to print \"hello world!\""
      ],
      "metadata": {
        "id": "57Si31P9HdsT"
      }
    },
    {
      "cell_type": "code",
      "source": [
        "print(\"hello world!\")"
      ],
      "metadata": {
        "colab": {
          "base_uri": "https://localhost:8080/"
        },
        "id": "3lMe3lXJHpP8",
        "outputId": "80e12677-4743-47c9-bb7e-451e88748546"
      },
      "execution_count": null,
      "outputs": [
        {
          "output_type": "stream",
          "name": "stdout",
          "text": [
            "hello world!\n"
          ]
        }
      ]
    },
    {
      "cell_type": "markdown",
      "source": [
        "2. write a python program that displays your name and age."
      ],
      "metadata": {
        "id": "5tnR08xFH8s2"
      }
    },
    {
      "cell_type": "code",
      "source": [
        "name = input(\"enter your name\")\n",
        "age = input(\"enter your age\")\n",
        "print(\"i am helly and i am 19 years old\")\n"
      ],
      "metadata": {
        "colab": {
          "base_uri": "https://localhost:8080/"
        },
        "id": "Yymt0IxVIg-f",
        "outputId": "58821e8f-330c-4fae-b521-cbd96e6ad672"
      },
      "execution_count": null,
      "outputs": [
        {
          "output_type": "stream",
          "name": "stdout",
          "text": [
            "enter your namehelly\n",
            "enter your age19\n",
            "i am helly and i am 19 years old\n"
          ]
        }
      ]
    },
    {
      "cell_type": "markdown",
      "source": [
        "3. write code to print all the pre-defined key words in python using the key word library."
      ],
      "metadata": {
        "id": "Uj9ruZl5JK8W"
      }
    },
    {
      "cell_type": "code",
      "source": [
        "import keyword\n",
        "print(keyword.kwlist)"
      ],
      "metadata": {
        "colab": {
          "base_uri": "https://localhost:8080/"
        },
        "id": "BakD0nyVJvWs",
        "outputId": "78ea34ac-af66-4add-bd07-fd7304eadc81"
      },
      "execution_count": null,
      "outputs": [
        {
          "output_type": "stream",
          "name": "stdout",
          "text": [
            "['False', 'None', 'True', 'and', 'as', 'assert', 'async', 'await', 'break', 'class', 'continue', 'def', 'del', 'elif', 'else', 'except', 'finally', 'for', 'from', 'global', 'if', 'import', 'in', 'is', 'lambda', 'nonlocal', 'not', 'or', 'pass', 'raise', 'return', 'try', 'while', 'with', 'yield']\n"
          ]
        }
      ]
    },
    {
      "cell_type": "markdown",
      "source": [],
      "metadata": {
        "id": "iCoQUnXPIcep"
      }
    },
    {
      "cell_type": "markdown",
      "source": [
        "4. Write a program that checks if a given word is a python keyword?\n",
        "\n"
      ],
      "metadata": {
        "id": "BlNGcrSEW6fw"
      }
    },
    {
      "cell_type": "code",
      "source": [
        "import keyword\n",
        "\n",
        "def check_keyword(word):\n",
        "  if keyword.iskeyword(word):\n",
        "    print(f\" '{word} ' is not a python keyword.\")\n",
        "  else:\n",
        "    print(f\" '{word}' is not a python key word.\")\n",
        "\n",
        "word = input(\"enter a word to check if it's a python keyword: \")\n",
        "check_keyword(word)"
      ],
      "metadata": {
        "colab": {
          "base_uri": "https://localhost:8080/"
        },
        "id": "cwwkWcMLXGgI",
        "outputId": "429eb2d6-4c14-4963-b38f-37348bcbfb0f"
      },
      "execution_count": null,
      "outputs": [
        {
          "output_type": "stream",
          "name": "stdout",
          "text": [
            "enter a word to check if it's a python keyword:  print\n",
            " ' print' is not a python key word.\n"
          ]
        }
      ]
    },
    {
      "cell_type": "markdown",
      "source": [
        "5. Create a list and tuple in python, and demonstrate how attempting to change an element works diffrently for each."
      ],
      "metadata": {
        "id": "_DQL75ShYsMO"
      }
    },
    {
      "cell_type": "code",
      "source": [
        "my_list = [1, 2, 3, 4, \"helly\" , \"elephent\"]\n",
        "my_tuple = (1, 2, 3, 4, 5)\n",
        "\n",
        "print(\"original list:\" , my_list)\n",
        "my_list[4] = \"Anmol\"\n",
        "print(\"Modified List;\" , my_list)\n",
        "\n",
        "print(\"original Tuple:\" , my_tuple)\n",
        "try:\n",
        "   my_tuple[2]= 10\n",
        "except TypeError as e:\n",
        "  print(\"Error:\" , e)\n"
      ],
      "metadata": {
        "colab": {
          "base_uri": "https://localhost:8080/"
        },
        "id": "8RQ9nZAbY7Pw",
        "outputId": "4ab6ca8d-a798-439f-bc49-82a71bf5bb41"
      },
      "execution_count": null,
      "outputs": [
        {
          "output_type": "stream",
          "name": "stdout",
          "text": [
            "original list: [1, 2, 3, 4, 'helly', 'elephent']\n",
            "Modified List; [1, 2, 3, 4, 'Anmol', 'elephent']\n",
            "original Tuple: (1, 2, 3, 4, 5)\n",
            "Error: 'tuple' object does not support item assignment\n"
          ]
        }
      ]
    },
    {
      "cell_type": "markdown",
      "source": [
        "6. Write a function to demonstrate the behavior of mutable and immutable arguments."
      ],
      "metadata": {
        "id": "qYzoKOdNbNVO"
      }
    },
    {
      "cell_type": "code",
      "source": [
        "#Mutable\n",
        "\n",
        "_list = [1,2,3,4,5,\"Anmol\"]\n",
        "\n",
        "print(_list)\n",
        "\n",
        "_list [5] = \"change\"\n",
        "print(_list)\n",
        "\n",
        "# Such variables can change their value or state. Therfore, once we assign them\n",
        "# the value during declaration we can make changes in the future if a need arises."
      ],
      "metadata": {
        "colab": {
          "base_uri": "https://localhost:8080/"
        },
        "id": "ajFuH4oVbaac",
        "outputId": "a838283f-3dc2-4261-91ed-d00e7ea02319"
      },
      "execution_count": null,
      "outputs": [
        {
          "output_type": "stream",
          "name": "stdout",
          "text": [
            "[1, 2, 3, 4, 5, 'Anmol']\n",
            "[1, 2, 3, 4, 5, 'change']\n"
          ]
        }
      ]
    },
    {
      "cell_type": "code",
      "source": [
        "#Immutable\n",
        "\n",
        "tuple1 = [1,3,4,\"Ram\",\"Cat\"]\n",
        "\n",
        "print (tuple1)\n",
        "\n",
        "tuple1[4] = \"helly\"\n",
        "\n",
        "print (tuple1)\n",
        "\n",
        "# Such variables cannot change their value or state. Therefore, once we assingn\n",
        "# them the value during declaration we cannot make changes in the future if i need\n",
        "# arises. Moreover, if we try to change an immutable variable python gives an error."
      ],
      "metadata": {
        "colab": {
          "base_uri": "https://localhost:8080/"
        },
        "id": "mQuQlw84c8nx",
        "outputId": "686c183f-c235-4eb2-e1b0-b2dc959a251f"
      },
      "execution_count": null,
      "outputs": [
        {
          "output_type": "stream",
          "name": "stdout",
          "text": [
            "[1, 3, 4, 'Ram', 'Cat']\n",
            "[1, 3, 4, 'Ram', 'helly']\n"
          ]
        }
      ]
    },
    {
      "cell_type": "markdown",
      "source": [
        "7. Write a program to demonstrate the use of logical oprators."
      ],
      "metadata": {
        "id": "k7JNJE-IfhSe"
      }
    },
    {
      "cell_type": "code",
      "source": [
        "#AND logical oprators\n",
        "\n",
        "a = 45\n",
        "b = 65\n",
        "\n",
        "from builtins import print\n",
        "\n",
        "if a < b and b > a:\n",
        "  print(\"True\")\n",
        "else:\n",
        "  print(\"False\")\n",
        "\n",
        "# OR logical oprator\n",
        "\n",
        "a = 95\n",
        "b = 75\n",
        "\n",
        "from builtins import print\n",
        "\n",
        "if a > b or b > a:\n",
        "  print(\"True\")\n",
        "else:\n",
        "  print(\"False\")\n",
        "\n",
        "# Bitwise oprators\n",
        "\n",
        "#AND\n",
        "\n",
        "d = 45 & 65\n",
        "print(d)\n",
        "\n",
        "#OR\n",
        "\n",
        "F = 94 | 45\n",
        "print(F)\n",
        "\n"
      ],
      "metadata": {
        "colab": {
          "base_uri": "https://localhost:8080/"
        },
        "id": "Xkt1bgTmfuJI",
        "outputId": "63176721-8f87-4546-a19a-8273004107a4"
      },
      "execution_count": null,
      "outputs": [
        {
          "output_type": "stream",
          "name": "stdout",
          "text": [
            "True\n",
            "True\n",
            "1\n",
            "127\n"
          ]
        }
      ]
    },
    {
      "cell_type": "markdown",
      "source": [
        "8. Write a python program to convert user input from string to integer, float, and boolean types."
      ],
      "metadata": {
        "id": "8lsMlaZ_h0S9"
      }
    },
    {
      "cell_type": "code",
      "source": [
        "user = input(\"Enter your value\")\n",
        "\n",
        "print(int(user))\n",
        "print(float(user))\n",
        "if user == \"1\":\n",
        "     print(bool(user))\n",
        "else:\n",
        "     print(bool(user))"
      ],
      "metadata": {
        "colab": {
          "base_uri": "https://localhost:8080/"
        },
        "id": "tCYIAneCicCt",
        "outputId": "1b8500ca-7cb2-4093-b92c-4aa679f0d58b"
      },
      "execution_count": null,
      "outputs": [
        {
          "output_type": "stream",
          "name": "stdout",
          "text": [
            "Enter your value 1\n",
            "1\n",
            "1.0\n",
            "True\n"
          ]
        }
      ]
    },
    {
      "cell_type": "markdown",
      "source": [
        "9. Write a code to demonstrate type casting with list elements."
      ],
      "metadata": {
        "id": "_yakpLgFkcCS"
      }
    },
    {
      "cell_type": "code",
      "source": [
        "string_list = [\"1\", \"2\", \"3\", \"4\", \"5\"]\n",
        "\n",
        "int_list = [int(element) for element in string_list]\n",
        "\n",
        "print(int_list)\n",
        "\n",
        "float_list = [float(element) for element in string_list]\n",
        "\n",
        "print(float_list)\n",
        "\n",
        "bool_list = [bool(element) for element in string_list]\n",
        "\n",
        "print(bool_list)"
      ],
      "metadata": {
        "colab": {
          "base_uri": "https://localhost:8080/"
        },
        "id": "Q0-XW3Zckqal",
        "outputId": "79bf5f50-25d1-4424-f599-f9a0ab50b94b"
      },
      "execution_count": null,
      "outputs": [
        {
          "output_type": "stream",
          "name": "stdout",
          "text": [
            "[1, 2, 3, 4, 5]\n",
            "[1.0, 2.0, 3.0, 4.0, 5.0]\n",
            "[True, True, True, True, True]\n"
          ]
        }
      ]
    },
    {
      "cell_type": "markdown",
      "source": [
        "10. Write a program that checks if a number is positive, negetive, or zero."
      ],
      "metadata": {
        "id": "J_iKiV2ImXhr"
      }
    },
    {
      "cell_type": "code",
      "source": [
        "number = float(input(\"enter a number\"))\n",
        "if number > 0:\n",
        "    print(\"The user enter number is positive\")\n",
        "\n",
        "elif number < 0:\n",
        "     print(\"The user enter number is negative\")\n",
        "\n",
        "else:\n",
        "     print(\"The user enter number is 0\")\n",
        "\n",
        "\n",
        "\n",
        "\n",
        "\n",
        "\n",
        "\n"
      ],
      "metadata": {
        "colab": {
          "base_uri": "https://localhost:8080/"
        },
        "id": "5rnTS6ammiQu",
        "outputId": "ce21ee49-6f97-45ed-89b3-921cfeb6ae2c"
      },
      "execution_count": null,
      "outputs": [
        {
          "output_type": "stream",
          "name": "stdout",
          "text": [
            "enter a number0\n",
            "The user enter number is 0\n"
          ]
        }
      ]
    },
    {
      "cell_type": "markdown",
      "source": [
        "11. Write a for loop to print numbers from 1 to 100"
      ],
      "metadata": {
        "id": "Gq5coC0anzIU"
      }
    },
    {
      "cell_type": "code",
      "source": [
        "count = 0\n",
        "while count <= 10:\n",
        "  print(count , end = \" \")\n",
        "  count = count + 1"
      ],
      "metadata": {
        "colab": {
          "base_uri": "https://localhost:8080/"
        },
        "id": "AydzLFX_n_Jy",
        "outputId": "ae46db23-9c23-453d-eec4-50b34e77ff15"
      },
      "execution_count": null,
      "outputs": [
        {
          "output_type": "stream",
          "name": "stdout",
          "text": [
            "0 1 2 3 4 5 6 7 8 9 10 "
          ]
        }
      ]
    },
    {
      "cell_type": "markdown",
      "source": [
        "12. Write a python to find sum of all even numbers between 1 to 500.\n"
      ],
      "metadata": {
        "id": "8sH4V09loVsR"
      }
    },
    {
      "cell_type": "code",
      "source": [
        "#Print the even no\n",
        "for i in range(600) :\n",
        "  if i%2 != 0:\n",
        "    continue\n",
        "  print(i , end = \" , \")"
      ],
      "metadata": {
        "colab": {
          "base_uri": "https://localhost:8080/"
        },
        "id": "c4JuquPIq06x",
        "outputId": "e9edf84e-628b-4f35-a519-1e270c26c2e8"
      },
      "execution_count": null,
      "outputs": [
        {
          "output_type": "stream",
          "name": "stdout",
          "text": [
            "0 , 2 , 4 , 6 , 8 , 10 , 12 , 14 , 16 , 18 , 20 , 22 , 24 , 26 , 28 , 30 , 32 , 34 , 36 , 38 , 40 , 42 , 44 , 46 , 48 , 50 , 52 , 54 , 56 , 58 , 60 , 62 , 64 , 66 , 68 , 70 , 72 , 74 , 76 , 78 , 80 , 82 , 84 , 86 , 88 , 90 , 92 , 94 , 96 , 98 , 100 , 102 , 104 , 106 , 108 , 110 , 112 , 114 , 116 , 118 , 120 , 122 , 124 , 126 , 128 , 130 , 132 , 134 , 136 , 138 , 140 , 142 , 144 , 146 , 148 , 150 , 152 , 154 , 156 , 158 , 160 , 162 , 164 , 166 , 168 , 170 , 172 , 174 , 176 , 178 , 180 , 182 , 184 , 186 , 188 , 190 , 192 , 194 , 196 , 198 , 200 , 202 , 204 , 206 , 208 , 210 , 212 , 214 , 216 , 218 , 220 , 222 , 224 , 226 , 228 , 230 , 232 , 234 , 236 , 238 , 240 , 242 , 244 , 246 , 248 , 250 , 252 , 254 , 256 , 258 , 260 , 262 , 264 , 266 , 268 , 270 , 272 , 274 , 276 , 278 , 280 , 282 , 284 , 286 , 288 , 290 , 292 , 294 , 296 , 298 , 300 , 302 , 304 , 306 , 308 , 310 , 312 , 314 , 316 , 318 , 320 , 322 , 324 , 326 , 328 , 330 , 332 , 334 , 336 , 338 , 340 , 342 , 344 , 346 , 348 , 350 , 352 , 354 , 356 , 358 , 360 , 362 , 364 , 366 , 368 , 370 , 372 , 374 , 376 , 378 , 380 , 382 , 384 , 386 , 388 , 390 , 392 , 394 , 396 , 398 , 400 , 402 , 404 , 406 , 408 , 410 , 412 , 414 , 416 , 418 , 420 , 422 , 424 , 426 , 428 , 430 , 432 , 434 , 436 , 438 , 440 , 442 , 444 , 446 , 448 , 450 , 452 , 454 , 456 , 458 , 460 , 462 , 464 , 466 , 468 , 470 , 472 , 474 , 476 , 478 , 480 , 482 , 484 , 486 , 488 , 490 , 492 , 494 , 496 , 498 , 500 , 502 , 504 , 506 , 508 , 510 , 512 , 514 , 516 , 518 , 520 , 522 , 524 , 526 , 528 , 530 , 532 , 534 , 536 , 538 , 540 , 542 , 544 , 546 , 548 , 550 , 552 , 554 , 556 , 558 , 560 , 562 , 564 , 566 , 568 , 570 , 572 , 574 , 576 , 578 , 580 , 582 , 584 , 586 , 588 , 590 , 592 , 594 , 596 , 598 , "
          ]
        }
      ]
    },
    {
      "cell_type": "markdown",
      "source": [
        "13. Write a program to reverse a string using a while loop."
      ],
      "metadata": {
        "id": "Pxz8C4a9rQ6Y"
      }
    },
    {
      "cell_type": "code",
      "source": [
        "original_string = input(\"enter a string: \")\n",
        "\n",
        "\n",
        "reversed_string = \"\"\n",
        "index = len(original_string) - 1\n",
        "\n",
        "while index >= 0:\n",
        "  reversed_string += original_string[index]\n",
        "  index -= 1\n",
        "\n",
        "print(\"Reversed string: \" , reversed_string)\n"
      ],
      "metadata": {
        "colab": {
          "base_uri": "https://localhost:8080/"
        },
        "id": "kwkPYyEYrbLM",
        "outputId": "bb24a622-6d1b-4902-9a9c-6a6dc9bea239"
      },
      "execution_count": null,
      "outputs": [
        {
          "output_type": "stream",
          "name": "stdout",
          "text": [
            "enter a string: helly\n",
            "Reversed string:  ylleh\n"
          ]
        }
      ]
    },
    {
      "cell_type": "markdown",
      "source": [
        "14. Write a python program to calculate the factorial of a number provided by the user using a while loop.\n",
        "\n"
      ],
      "metadata": {
        "id": "ifVfRH9vsmrN"
      }
    },
    {
      "cell_type": "code",
      "source": [
        "# Get user input\n",
        "number = int(input(\"Enter a non-negetive integer:\"))\n",
        "\n",
        "#Initialize variables\n",
        "factorial = 1\n",
        "i = number\n",
        "\n",
        "# Check if the input is valid\n",
        "if number < 0:\n",
        "  print(\"Factorial is not defined for negative numbers.\")\n",
        "else:\n",
        "  # Use a while loop to calculate the factorial\n",
        "  while i > 0:\n",
        "    factorial *=  i\n",
        "    i -= 1\n",
        "\n",
        "    #Print the result\n",
        "    print(f\"The factorial of {number} is {factorial}.\")\n",
        "\n",
        "\n"
      ],
      "metadata": {
        "colab": {
          "base_uri": "https://localhost:8080/"
        },
        "id": "vCzkCQuBs3oy",
        "outputId": "a2558602-5a80-4896-c8be-23b3f6659d55"
      },
      "execution_count": null,
      "outputs": [
        {
          "output_type": "stream",
          "name": "stdout",
          "text": [
            "Enter a non-negetive integer:5\n",
            "The factorial of 5 is 5.\n",
            "The factorial of 5 is 20.\n",
            "The factorial of 5 is 60.\n",
            "The factorial of 5 is 120.\n",
            "The factorial of 5 is 120.\n"
          ]
        }
      ]
    }
  ]
}